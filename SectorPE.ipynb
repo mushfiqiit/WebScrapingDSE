{
 "cells": [
  {
   "cell_type": "code",
   "execution_count": 1,
   "id": "5774304b",
   "metadata": {},
   "outputs": [],
   "source": [
    "from lxml import html\n",
    "import requests\n",
    "import pandas as pd\n",
    "import math"
   ]
  },
  {
   "cell_type": "code",
   "execution_count": 2,
   "id": "a68d2077",
   "metadata": {},
   "outputs": [],
   "source": [
    "url = \"https://dsebd.org/latest_PE.php\""
   ]
  },
  {
   "cell_type": "code",
   "execution_count": 15,
   "id": "0e89b431",
   "metadata": {},
   "outputs": [],
   "source": [
    "peDataFrame=pd.read_html(url)"
   ]
  },
  {
   "cell_type": "code",
   "execution_count": 16,
   "id": "60140ba2",
   "metadata": {},
   "outputs": [],
   "source": [
    "peDataFrame=pd.read_html(url)\n",
    "desiredListOfColumns=['#',\n",
    " 'Trade Code',\n",
    " 'Close Price',\n",
    " 'YCP',\n",
    " 'P/E 1*(Basic)',\n",
    " 'P/E 2*(Diluted)',\n",
    " 'P/E 3*(Basic)',\n",
    " 'P/E 4*(Diluted)',\n",
    " 'P/E 5*',\n",
    " 'P/E 6*']\n",
    "i=0\n",
    "for part in peDataFrame:\n",
    "    if desiredListOfColumns==list(part.columns):\n",
    "        peDataFrame=part\n",
    "        break\n",
    "        \n",
    "        \n"
   ]
  },
  {
   "cell_type": "code",
   "execution_count": 17,
   "id": "3ff698e6",
   "metadata": {},
   "outputs": [],
   "source": [
    "def isfloat(num):\n",
    "    try:\n",
    "        float(num)\n",
    "        return True\n",
    "    except ValueError:\n",
    "        return False"
   ]
  },
  {
   "cell_type": "code",
   "execution_count": 18,
   "id": "fa3d0d00",
   "metadata": {},
   "outputs": [],
   "source": [
    "sizeOfDataFrame=len(peDataFrame.index)\n",
    "returnList=list()\n",
    "for i in range(sizeOfDataFrame):\n",
    "    toAppend=peDataFrame.at[i, desiredListOfColumns[4]]\n",
    "    if not isfloat(toAppend):\n",
    "        returnList.append(0)\n",
    "    elif math.isnan(float(toAppend)):\n",
    "        returnList.append(0)\n",
    "    else:\n",
    "        returnList.append(float(toAppend))"
   ]
  },
  {
   "cell_type": "code",
   "execution_count": 19,
   "id": "2e70d859",
   "metadata": {},
   "outputs": [],
   "source": [
    "# creating companySectorDictionary by reading txt file\n",
    "\n",
    "sectorFile=open(\"companysector.txt\", \"r\")\n",
    "sectorFlag=1\n",
    "currentSector=\"\"\n",
    "companySectorDictionary={}\n",
    "for line in sectorFile:\n",
    "    if line==\"\\n\":\n",
    "        sectorFlag=1\n",
    "    else:\n",
    "        line=line.strip()\n",
    "        if sectorFlag==1:\n",
    "            currentSector=line\n",
    "            sectorFlag=0\n",
    "        else:\n",
    "            companySectorDictionary[line]=currentSector\n"
   ]
  },
  {
   "cell_type": "code",
   "execution_count": 20,
   "id": "a74beb5e",
   "metadata": {},
   "outputs": [],
   "source": [
    "# calculating return of each sector and putting in a dictionary sectorReturnCount\n",
    "\n",
    "sectorPECount={}\n",
    "size=len(peDataFrame.index)\n",
    "for i in range(size):\n",
    "    if peDataFrame.at[i, 'Trade Code'] in companySectorDictionary:\n",
    "        sectorOfCompany=companySectorDictionary[peDataFrame.at[i, 'Trade Code']]\n",
    "    if sectorOfCompany in sectorPECount:\n",
    "        sectorPECount[sectorOfCompany]+=float(returnList[i])\n",
    "    else:\n",
    "         sectorPECount[sectorOfCompany]=float(returnList[i])\n"
   ]
  },
  {
   "cell_type": "code",
   "execution_count": 21,
   "id": "f78062a6",
   "metadata": {},
   "outputs": [
    {
     "data": {
      "text/plain": [
       "{'Mutual Funds': 364.28000000000003,\n",
       " 'IT Sector': 504.87,\n",
       " 'Bank': 333.63,\n",
       " 'Textile': 2142.5700000000006,\n",
       " 'Pharmaceuticals & Chemicals': 2346.6700000000005,\n",
       " 'Engineering': 2142.1,\n",
       " 'Insurance': 886.2800000000001,\n",
       " 'Corporate Bond': 0.0,\n",
       " 'Miscellaneous': 203.87000000000003,\n",
       " 'Food & Allied': 2806.35,\n",
       " 'Fuel & Power': 629.0999999999999,\n",
       " 'Tannery Industries': 766.55,\n",
       " 'Cement': 259.8,\n",
       " 'Financial Institution': 263.74,\n",
       " 'Travel & Leisure': 184.01,\n",
       " 'Paper& Printing': 244.33999999999997,\n",
       " 'Telecommunication': 128.72,\n",
       " 'Debenture': 0.0,\n",
       " 'Services & Real Estate': 96.56,\n",
       " 'Ceramics': 290.25,\n",
       " 'Jute': 188.43}"
      ]
     },
     "execution_count": 21,
     "metadata": {},
     "output_type": "execute_result"
    }
   ],
   "source": [
    "sectorPECount"
   ]
  }
 ],
 "metadata": {
  "kernelspec": {
   "display_name": "Python 3 (ipykernel)",
   "language": "python",
   "name": "python3"
  },
  "language_info": {
   "codemirror_mode": {
    "name": "ipython",
    "version": 3
   },
   "file_extension": ".py",
   "mimetype": "text/x-python",
   "name": "python",
   "nbconvert_exporter": "python",
   "pygments_lexer": "ipython3",
   "version": "3.9.7"
  }
 },
 "nbformat": 4,
 "nbformat_minor": 5
}
