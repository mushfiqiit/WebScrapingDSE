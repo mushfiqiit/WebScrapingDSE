{
 "cells": [
  {
   "cell_type": "code",
   "execution_count": 89,
   "id": "bfe5efaa",
   "metadata": {},
   "outputs": [],
   "source": [
    "from lxml import html\n",
    "import requests\n",
    "import pandas as pd"
   ]
  },
  {
   "cell_type": "code",
   "execution_count": 90,
   "id": "9713083b",
   "metadata": {},
   "outputs": [],
   "source": [
    "url=\"https://dsebd.org/dse_close_price.php\""
   ]
  },
  {
   "cell_type": "code",
   "execution_count": 91,
   "id": "c88c5d11",
   "metadata": {},
   "outputs": [],
   "source": [
    "closePriceDataFrame=pd.read_html(url)\n",
    "desiredListOfColumns=['#', 'TRADING CODE', 'CLOSEP*', 'YCP*']\n",
    "i=0\n",
    "for part in closePriceDataFrame:\n",
    "    if desiredListOfColumns==list(part.columns):\n",
    "        closePriceDataFrame=part\n",
    "        break\n",
    "        "
   ]
  },
  {
   "cell_type": "code",
   "execution_count": 92,
   "id": "c1e3634c",
   "metadata": {},
   "outputs": [],
   "source": [
    "sizeOfDataFrame=len(closePriceDataFrame.index)\n",
    "returnList=list()\n",
    "for i in range(sizeOfDataFrame):\n",
    "    returnList.append(closePriceDataFrame.at[i, desiredListOfColumns[3]]-closePriceDataFrame.at[i, desiredListOfColumns[2]])"
   ]
  },
  {
   "cell_type": "code",
   "execution_count": 93,
   "id": "0bbed93a",
   "metadata": {},
   "outputs": [],
   "source": [
    "totalReturn=0\n",
    "for value in returnList:\n",
    "    totalReturn=totalReturn+value\n",
    "    "
   ]
  },
  {
   "cell_type": "code",
   "execution_count": 76,
   "id": "71413e30",
   "metadata": {},
   "outputs": [],
   "source": [
    "# creating companySectorDictionary by reading txt file\n",
    "\n",
    "sectorFile=open(\"companysector.txt\", \"r\")\n",
    "sectorFlag=1\n",
    "currentSector=\"\"\n",
    "companySectorDictionary={}\n",
    "for line in sectorFile:\n",
    "    if line==\"\\n\":\n",
    "        sectorFlag=1\n",
    "    else:\n",
    "        line=line.strip()\n",
    "        if sectorFlag==1:\n",
    "            currentSector=line\n",
    "            sectorFlag=0\n",
    "        else:\n",
    "            companySectorDictionary[line]=currentSector\n"
   ]
  },
  {
   "cell_type": "code",
   "execution_count": 83,
   "id": "deca3b62",
   "metadata": {},
   "outputs": [],
   "source": [
    "# calculating return of each sector and putting in a dictionary sectorReturnCount\n",
    "\n",
    "sectorReturnCount={}\n",
    "size=len(closePriceDataFrame.index)\n",
    "for i in range(size):\n",
    "    if closePriceDataFrame.at[i, 'TRADING CODE'] in companySectorDictionary:\n",
    "        sectorOfCompany=companySectorDictionary[closePriceDataFrame.at[i, 'TRADING CODE']]\n",
    "    if sectorOfCompany in sectorReturnCount:\n",
    "        sectorReturnCount[sectorOfCompany]=sectorReturnCount[sectorOfCompany]+returnList[i]\n",
    "    else:\n",
    "         sectorReturnCount[sectorOfCompany]=returnList[i]\n"
   ]
  },
  {
   "cell_type": "code",
   "execution_count": 86,
   "id": "0f66f3c6",
   "metadata": {},
   "outputs": [],
   "source": [
    "sectorReturnPercentage={}\n",
    "for sectorOfCompany in sectorReturnCount:\n",
    "    sectorReturnPercentage[sectorOfCompany]=(sectorReturnCount[sectorOfCompany]*100)/totalReturn"
   ]
  },
  {
   "cell_type": "code",
   "execution_count": 88,
   "id": "d0eb1ef1",
   "metadata": {},
   "outputs": [
    {
     "data": {
      "text/plain": [
       "{'Mutual Funds': -4.668674698795163,\n",
       " 'IT Sector': -14.00602409638549,\n",
       " 'Bank': -1.3554216867469597,\n",
       " 'Textile': -5.120481927710965,\n",
       " 'Pharmaceuticals & Chemicals': 8.734939759036317,\n",
       " 'Engineering': -23.644578313252893,\n",
       " 'Insurance': -30.42168674698778,\n",
       " 'Corporate Bond': 4.518072289156611,\n",
       " 'Miscellaneous': 13.704819277108454,\n",
       " 'Food & Allied': 93.3734939759035,\n",
       " 'Fuel & Power': 5.271084337349626,\n",
       " 'Tannery Industries': 39.307228915662506,\n",
       " 'Cement': -1.3554216867470132,\n",
       " 'Financial Institution': -9.939759036144558,\n",
       " 'Travel & Leisure': -1.8072289156626486,\n",
       " 'Paper& Printing': 32.680722891566006,\n",
       " 'Telecommunication': -3.463855421686795,\n",
       " 'Debenture': -0.0,\n",
       " 'Services & Real Estate': 1.9578313253011936,\n",
       " 'Ceramics': -3.4638554216867092,\n",
       " 'Jute': -0.30120481927713305}"
      ]
     },
     "execution_count": 88,
     "metadata": {},
     "output_type": "execute_result"
    }
   ],
   "source": [
    "sectorReturnPercentage"
   ]
  },
  {
   "cell_type": "code",
   "execution_count": null,
   "id": "900b9fd7",
   "metadata": {},
   "outputs": [],
   "source": []
  }
 ],
 "metadata": {
  "kernelspec": {
   "display_name": "Python 3 (ipykernel)",
   "language": "python",
   "name": "python3"
  },
  "language_info": {
   "codemirror_mode": {
    "name": "ipython",
    "version": 3
   },
   "file_extension": ".py",
   "mimetype": "text/x-python",
   "name": "python",
   "nbconvert_exporter": "python",
   "pygments_lexer": "ipython3",
   "version": "3.9.7"
  }
 },
 "nbformat": 4,
 "nbformat_minor": 5
}
