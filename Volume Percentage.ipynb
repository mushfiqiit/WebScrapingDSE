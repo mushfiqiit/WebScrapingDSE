{
 "cells": [
  {
   "cell_type": "code",
   "execution_count": 39,
   "id": "c76d90ff",
   "metadata": {},
   "outputs": [],
   "source": [
    "from lxml import html\n",
    "import requests\n",
    "import pandas as pd"
   ]
  },
  {
   "cell_type": "code",
   "execution_count": 40,
   "id": "a6089e68",
   "metadata": {},
   "outputs": [],
   "source": [
    "url = \"https://www.dsebd.org/latest_share_price_scroll_by_ltp.php\""
   ]
  },
  {
   "cell_type": "code",
   "execution_count": 41,
   "id": "584e6c32",
   "metadata": {},
   "outputs": [],
   "source": [
    "dataframe=pd.read_html(url)\n",
    "\n",
    "desiredListOfColumns=['#',\n",
    " 'TRADING CODE',\n",
    " 'LTP*',\n",
    " 'HIGH',\n",
    " 'LOW',\n",
    " 'CLOSEP*',\n",
    " 'YCP*',\n",
    " 'CHANGE',\n",
    " 'TRADE',\n",
    " 'VALUE (mn)',\n",
    " 'VOLUME']\n",
    "\n",
    "for part in dataframe:\n",
    "    if desiredListOfColumns==list(part.columns):\n",
    "        dataframe=part\n",
    "        break\n"
   ]
  },
  {
   "cell_type": "code",
   "execution_count": 42,
   "id": "dbdfea87",
   "metadata": {},
   "outputs": [],
   "source": [
    "totalVolume=0\n",
    "for i in range(384):\n",
    "    totalVolume=totalVolume+dataframe.iat[i, 10]"
   ]
  },
  {
   "cell_type": "code",
   "execution_count": 43,
   "id": "abded66a",
   "metadata": {},
   "outputs": [],
   "source": [
    "# creating companySectorDictionary by reading txt file\n",
    "\n",
    "sectorFile=open(\"companysector.txt\", \"r\")\n",
    "sectorFlag=1\n",
    "currentSector=\"\"\n",
    "companySectorDictionary={}\n",
    "for line in sectorFile:\n",
    "    if line==\"\\n\":\n",
    "        sectorFlag=1\n",
    "    else:\n",
    "        line=line.strip()\n",
    "        if sectorFlag==1:\n",
    "            currentSector=line\n",
    "            sectorFlag=0\n",
    "        else:\n",
    "            companySectorDictionary[line]=currentSector\n"
   ]
  },
  {
   "cell_type": "code",
   "execution_count": 44,
   "id": "d1f7faf6",
   "metadata": {},
   "outputs": [],
   "source": [
    "# calculating volume of each sector in putting in a dictionary sectorVolumeCount\n",
    "\n",
    "sectorVolumeCount={}\n",
    "size=len(dataframe.index)\n",
    "for i in range(size):\n",
    "    if dataframe.at[i, 'TRADING CODE'] in companySectorDictionary:\n",
    "        sectorOfCompany=companySectorDictionary[dataframe.at[i, 'TRADING CODE']]\n",
    "    if sectorOfCompany in sectorVolumeCount:\n",
    "        sectorVolumeCount[sectorOfCompany]=sectorVolumeCount[sectorOfCompany]+dataframe.at[i, 'VOLUME']\n",
    "    else:\n",
    "         sectorVolumeCount[sectorOfCompany]=dataframe.at[i, 'VOLUME']\n"
   ]
  },
  {
   "cell_type": "code",
   "execution_count": 45,
   "id": "50cfff60",
   "metadata": {},
   "outputs": [],
   "source": [
    "sectorVolumePercentage={}\n",
    "for sectorOfCompany in sectorVolumeCount:\n",
    "    sectorVolumePercentage[sectorOfCompany]=(sectorVolumeCount[sectorOfCompany]*100)/totalVolume"
   ]
  },
  {
   "cell_type": "code",
   "execution_count": 46,
   "id": "181845df",
   "metadata": {},
   "outputs": [
    {
     "data": {
      "text/plain": [
       "{'Pharmaceuticals & Chemicals': 11.262143733976119,\n",
       " 'Food & Allied': 2.6492624142925325,\n",
       " 'Fuel & Power': 3.5326574236478185,\n",
       " 'Miscellaneous': 3.659619001976077,\n",
       " 'Engineering': 7.973724385012209,\n",
       " 'Tannery Industries': 0.7857385268975553,\n",
       " 'Paper& Printing': 0.403377137345998,\n",
       " 'Jute': 0.007853439647973111,\n",
       " 'Telecommunication': 0.7092041113630737,\n",
       " 'Cement': 0.4429154493643247,\n",
       " 'Textile': 25.65507689522131,\n",
       " 'Insurance': 3.8659885656257744,\n",
       " 'Ceramics': 0.7838755794961032,\n",
       " 'IT Sector': 8.006637243320299,\n",
       " 'Financial Institution': 4.213533984463574,\n",
       " 'Services & Real Estate': 1.4689517458997865,\n",
       " 'Bank': 19.033503242523743,\n",
       " 'Travel & Leisure': 0.4316403057542045,\n",
       " 'Mutual Funds': 5.114296814171523}"
      ]
     },
     "execution_count": 46,
     "metadata": {},
     "output_type": "execute_result"
    }
   ],
   "source": [
    "sectorVolumePercentage"
   ]
  },
  {
   "cell_type": "code",
   "execution_count": null,
   "id": "2d611c16",
   "metadata": {},
   "outputs": [],
   "source": []
  }
 ],
 "metadata": {
  "kernelspec": {
   "display_name": "Python 3 (ipykernel)",
   "language": "python",
   "name": "python3"
  },
  "language_info": {
   "codemirror_mode": {
    "name": "ipython",
    "version": 3
   },
   "file_extension": ".py",
   "mimetype": "text/x-python",
   "name": "python",
   "nbconvert_exporter": "python",
   "pygments_lexer": "ipython3",
   "version": "3.9.7"
  }
 },
 "nbformat": 4,
 "nbformat_minor": 5
}
