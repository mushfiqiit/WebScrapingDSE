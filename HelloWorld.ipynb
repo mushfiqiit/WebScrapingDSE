{
 "cells": [
  {
   "cell_type": "code",
   "execution_count": 59,
   "id": "c76d90ff",
   "metadata": {},
   "outputs": [],
   "source": [
    "from lxml import html\n",
    "import requests\n",
    "import pandas as pd"
   ]
  },
  {
   "cell_type": "code",
   "execution_count": 60,
   "id": "a6089e68",
   "metadata": {},
   "outputs": [],
   "source": [
    "url = \"https://www.dsebd.org/latest_share_price_scroll_by_ltp.php\""
   ]
  },
  {
   "cell_type": "code",
   "execution_count": 61,
   "id": "584e6c32",
   "metadata": {},
   "outputs": [
    {
     "data": {
      "text/plain": [
       "642"
      ]
     },
     "execution_count": 61,
     "metadata": {},
     "output_type": "execute_result"
    }
   ],
   "source": [
    "df=pd.read_html(url)\n",
    "df=df[386]\n",
    "df.iat[0, 10]"
   ]
  },
  {
   "cell_type": "code",
   "execution_count": 62,
   "id": "dbdfea87",
   "metadata": {},
   "outputs": [
    {
     "data": {
      "text/plain": [
       "234332830"
      ]
     },
     "execution_count": 62,
     "metadata": {},
     "output_type": "execute_result"
    }
   ],
   "source": [
    "totalVolume=0\n",
    "for i in range(384):\n",
    "    totalVolume=totalVolume+df.iat[i, 10]"
   ]
  },
  {
   "cell_type": "code",
   "execution_count": 64,
   "id": "abded66a",
   "metadata": {},
   "outputs": [],
   "source": [
    "sectorFile=open(\"companysector.txt\", \"r\")\n",
    "sectorFlag=1\n",
    "currentSector=\"\"\n",
    "companySectorDictionary={}\n",
    "for line in sectorFile:\n",
    "    if line==\"\\n\":\n",
    "        sectorFlag=1\n",
    "    else:\n",
    "        line=line.strip()\n",
    "        if sectorFlag==1:\n",
    "            currentSector=line\n",
    "            sectorFlag=0\n",
    "        else:\n",
    "            companySectorDictionary[line]=currentSector\n"
   ]
  },
  {
   "cell_type": "code",
   "execution_count": 67,
   "id": "d1f7faf6",
   "metadata": {},
   "outputs": [],
   "source": [
    "sectorVolumeCount={}\n",
    "for i in range(384):\n",
    "    if df.at[i, 'TRADING CODE'] in companySectorDictionary:\n",
    "        sectorOfCompany=companySectorDictionary[df.at[i, 'TRADING CODE']]\n",
    "    if sectorOfCompany in sectorVolumeCount:\n",
    "        sectorVolumeCount[sectorOfCompany]=sectorVolumeCount[sectorOfCompany]+df.at[i, 'VOLUME']\n",
    "    else:\n",
    "         sectorVolumeCount[sectorOfCompany]=1\n"
   ]
  },
  {
   "cell_type": "code",
   "execution_count": 69,
   "id": "50cfff60",
   "metadata": {},
   "outputs": [],
   "source": [
    "sectorVolumePercentage={}\n",
    "for sectorOfCompany in sectorVolumeCount:\n",
    "    sectorVolumePercentage[sectorOfCompany]=(sectorVolumeCount[sectorOfCompany]*100)/totalVolume"
   ]
  },
  {
   "cell_type": "code",
   "execution_count": 70,
   "id": "fa16b3da",
   "metadata": {},
   "outputs": [
    {
     "data": {
      "text/plain": [
       "{'Pharmaceuticals & Chemicals': 11.89481303153297,\n",
       " 'Food & Allied': 2.613088400801544,\n",
       " 'Fuel & Power': 5.155162424317583,\n",
       " 'Miscellaneous': 3.5153332975153333,\n",
       " 'Engineering': 8.267915340756991,\n",
       " 'Tannery Industries': 0.45419244072629517,\n",
       " 'Paper& Printing': 0.34192178705817705,\n",
       " 'Jute': 0.004554632827162971,\n",
       " 'Telecommunication': 1.1239112334366466,\n",
       " 'Cement': 0.4637621625616863,\n",
       " 'Textile': 21.111994422633824,\n",
       " 'Insurance': 3.0175985157521463,\n",
       " 'Ceramics': 0.6437211550767342,\n",
       " 'IT Sector': 10.651057301702028,\n",
       " 'Financial Institution': 3.3176776809293003,\n",
       " 'Services & Real Estate': 1.8629856516477012,\n",
       " 'Bank': 18.59113979035716,\n",
       " 'Travel & Leisure': 0.42070886951691744,\n",
       " 'Mutual Funds': 5.662338051394676}"
      ]
     },
     "execution_count": 70,
     "metadata": {},
     "output_type": "execute_result"
    }
   ],
   "source": [
    "sectorVolumePercentage"
   ]
  },
  {
   "cell_type": "code",
   "execution_count": null,
   "id": "77769a8e",
   "metadata": {},
   "outputs": [],
   "source": []
  }
 ],
 "metadata": {
  "kernelspec": {
   "display_name": "Python 3 (ipykernel)",
   "language": "python",
   "name": "python3"
  },
  "language_info": {
   "codemirror_mode": {
    "name": "ipython",
    "version": 3
   },
   "file_extension": ".py",
   "mimetype": "text/x-python",
   "name": "python",
   "nbconvert_exporter": "python",
   "pygments_lexer": "ipython3",
   "version": "3.9.7"
  }
 },
 "nbformat": 4,
 "nbformat_minor": 5
}
